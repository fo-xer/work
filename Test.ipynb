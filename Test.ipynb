{
 "cells": [
  {
   "cell_type": "code",
   "execution_count": null,
   "id": "cc440918",
   "metadata": {},
   "outputs": [],
   "source": [
    "print (1 + 1)"
   ]
  },
  {
   "cell_type": "code",
   "execution_count": null,
   "id": "473fd119",
   "metadata": {},
   "outputs": [],
   "source": [
    "print (\"you semka\") # koment ne vidno"
   ]
  },
  {
   "cell_type": "code",
   "execution_count": 5,
   "id": "46261e1b",
   "metadata": {},
   "outputs": [],
   "source": [
    "x=10\n",
    "b=20"
   ]
  },
  {
   "cell_type": "code",
   "execution_count": 6,
   "id": "9eaa6bf1",
   "metadata": {},
   "outputs": [
    {
     "name": "stdout",
     "output_type": "stream",
     "text": [
      "10\n",
      "20\n"
     ]
    }
   ],
   "source": [
    "print (x)\n",
    "print (b)"
   ]
  },
  {
   "cell_type": "code",
   "execution_count": 17,
   "id": "5622a499",
   "metadata": {},
   "outputs": [],
   "source": [
    "my_string_1 = 'Privet \"dada mymy\"'"
   ]
  },
  {
   "cell_type": "code",
   "execution_count": 9,
   "id": "6ded758d",
   "metadata": {},
   "outputs": [],
   "source": [
    "my_string_2 = \"Poka\""
   ]
  },
  {
   "cell_type": "code",
   "execution_count": 18,
   "id": "7cc6c6cc",
   "metadata": {},
   "outputs": [
    {
     "data": {
      "text/plain": [
       "'Privet \"dada mymy\"'"
      ]
     },
     "execution_count": 18,
     "metadata": {},
     "output_type": "execute_result"
    }
   ],
   "source": [
    "my_string_1"
   ]
  },
  {
   "cell_type": "code",
   "execution_count": null,
   "id": "6455094a",
   "metadata": {},
   "outputs": [],
   "source": []
  },
  {
   "cell_type": "code",
   "execution_count": null,
   "id": "839cd742",
   "metadata": {},
   "outputs": [],
   "source": []
  }
 ],
 "metadata": {
  "kernelspec": {
   "display_name": "Python 3 (ipykernel)",
   "language": "python",
   "name": "python3"
  },
  "language_info": {
   "codemirror_mode": {
    "name": "ipython",
    "version": 3
   },
   "file_extension": ".py",
   "mimetype": "text/x-python",
   "name": "python",
   "nbconvert_exporter": "python",
   "pygments_lexer": "ipython3",
   "version": "3.10.4"
  }
 },
 "nbformat": 4,
 "nbformat_minor": 5
}
